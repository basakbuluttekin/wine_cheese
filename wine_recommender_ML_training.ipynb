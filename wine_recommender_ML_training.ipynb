{
 "cells": [
  {
   "attachments": {},
   "cell_type": "markdown",
   "metadata": {},
   "source": [
    "## ML Model"
   ]
  },
  {
   "attachments": {},
   "cell_type": "markdown",
   "metadata": {},
   "source": [
    "### Libraries & Calling the dataset(s)"
   ]
  },
  {
   "cell_type": "code",
   "execution_count": 155,
   "metadata": {},
   "outputs": [],
   "source": [
    "import pandas as pd\n",
    "import numpy as np\n",
    "from matplotlib import pyplot as plt\n",
    "import seaborn as sns\n",
    "\n",
    "from sklearn.neighbors import KNeighborsClassifier, NearestNeighbors\n",
    "from sklearn.preprocessing import OneHotEncoder, Normalizer, StandardScaler, normalize\n",
    "from sklearn.feature_extraction.text import CountVectorizer\n",
    "from sklearn.ensemble import RandomForestClassifier\n",
    "from sklearn.utils.class_weight import compute_sample_weight\n",
    "from sklearn.decomposition import PCA, SparsePCA, TruncatedSVD\n",
    "from scipy.sparse import hstack\n",
    "import xgboost as xgb"
   ]
  },
  {
   "cell_type": "code",
   "execution_count": 156,
   "metadata": {},
   "outputs": [
    {
     "data": {
      "text/html": [
       "<div>\n",
       "<style scoped>\n",
       "    .dataframe tbody tr th:only-of-type {\n",
       "        vertical-align: middle;\n",
       "    }\n",
       "\n",
       "    .dataframe tbody tr th {\n",
       "        vertical-align: top;\n",
       "    }\n",
       "\n",
       "    .dataframe thead th {\n",
       "        text-align: right;\n",
       "    }\n",
       "</style>\n",
       "<table border=\"1\" class=\"dataframe\">\n",
       "  <thead>\n",
       "    <tr style=\"text-align: right;\">\n",
       "      <th></th>\n",
       "      <th>country</th>\n",
       "      <th>description</th>\n",
       "      <th>points</th>\n",
       "      <th>price_USD</th>\n",
       "      <th>province</th>\n",
       "      <th>region</th>\n",
       "      <th>wine_name</th>\n",
       "      <th>variety</th>\n",
       "      <th>winery</th>\n",
       "      <th>year</th>\n",
       "    </tr>\n",
       "  </thead>\n",
       "  <tbody>\n",
       "    <tr>\n",
       "      <th>0</th>\n",
       "      <td>Italy</td>\n",
       "      <td>Aromas include tropical fruit, broom, brimston...</td>\n",
       "      <td>87.0</td>\n",
       "      <td>17</td>\n",
       "      <td>Sicily &amp; Sardinia</td>\n",
       "      <td>Etna</td>\n",
       "      <td>Nicosia 2013 Vulkà Bianco (Etna)</td>\n",
       "      <td>White Blend</td>\n",
       "      <td>Nicosia</td>\n",
       "      <td>2013</td>\n",
       "    </tr>\n",
       "    <tr>\n",
       "      <th>1</th>\n",
       "      <td>Portugal</td>\n",
       "      <td>This is ripe and fruity, a wine that is smooth...</td>\n",
       "      <td>87.0</td>\n",
       "      <td>15</td>\n",
       "      <td>Douro</td>\n",
       "      <td>Unknown</td>\n",
       "      <td>Quinta dos Avidagos 2011 Avidagos Red (Douro)</td>\n",
       "      <td>Portuguese Red</td>\n",
       "      <td>Quinta dos Avidagos</td>\n",
       "      <td>2011</td>\n",
       "    </tr>\n",
       "    <tr>\n",
       "      <th>2</th>\n",
       "      <td>US</td>\n",
       "      <td>Tart and snappy, the flavors of lime flesh and...</td>\n",
       "      <td>87.0</td>\n",
       "      <td>14</td>\n",
       "      <td>Oregon</td>\n",
       "      <td>Willamette Valley</td>\n",
       "      <td>Rainstorm 2013 Pinot Gris (Willamette Valley)</td>\n",
       "      <td>Pinot Gris</td>\n",
       "      <td>Rainstorm</td>\n",
       "      <td>2013</td>\n",
       "    </tr>\n",
       "    <tr>\n",
       "      <th>3</th>\n",
       "      <td>US</td>\n",
       "      <td>Pineapple rind, lemon pith and orange blossom ...</td>\n",
       "      <td>87.0</td>\n",
       "      <td>13</td>\n",
       "      <td>Michigan</td>\n",
       "      <td>Lake Michigan Shore</td>\n",
       "      <td>St. Julian 2013 Reserve Late Harvest Riesling ...</td>\n",
       "      <td>Riesling</td>\n",
       "      <td>St. Julian</td>\n",
       "      <td>2013</td>\n",
       "    </tr>\n",
       "    <tr>\n",
       "      <th>4</th>\n",
       "      <td>US</td>\n",
       "      <td>Much like the regular bottling from 2012, this...</td>\n",
       "      <td>87.0</td>\n",
       "      <td>65</td>\n",
       "      <td>Oregon</td>\n",
       "      <td>Willamette Valley</td>\n",
       "      <td>Sweet Cheeks 2012 Vintner's Reserve Wild Child...</td>\n",
       "      <td>Pinot Noir</td>\n",
       "      <td>Sweet Cheeks</td>\n",
       "      <td>2012</td>\n",
       "    </tr>\n",
       "  </tbody>\n",
       "</table>\n",
       "</div>"
      ],
      "text/plain": [
       "    country                                        description  points   \n",
       "0     Italy  Aromas include tropical fruit, broom, brimston...    87.0  \\\n",
       "1  Portugal  This is ripe and fruity, a wine that is smooth...    87.0   \n",
       "2        US  Tart and snappy, the flavors of lime flesh and...    87.0   \n",
       "3        US  Pineapple rind, lemon pith and orange blossom ...    87.0   \n",
       "4        US  Much like the regular bottling from 2012, this...    87.0   \n",
       "\n",
       "   price_USD           province               region   \n",
       "0         17  Sicily & Sardinia                 Etna  \\\n",
       "1         15              Douro              Unknown   \n",
       "2         14             Oregon    Willamette Valley   \n",
       "3         13           Michigan  Lake Michigan Shore   \n",
       "4         65             Oregon    Willamette Valley   \n",
       "\n",
       "                                           wine_name         variety   \n",
       "0                   Nicosia 2013 Vulkà Bianco (Etna)     White Blend  \\\n",
       "1      Quinta dos Avidagos 2011 Avidagos Red (Douro)  Portuguese Red   \n",
       "2      Rainstorm 2013 Pinot Gris (Willamette Valley)      Pinot Gris   \n",
       "3  St. Julian 2013 Reserve Late Harvest Riesling ...        Riesling   \n",
       "4  Sweet Cheeks 2012 Vintner's Reserve Wild Child...      Pinot Noir   \n",
       "\n",
       "                winery  year  \n",
       "0              Nicosia  2013  \n",
       "1  Quinta dos Avidagos  2011  \n",
       "2            Rainstorm  2013  \n",
       "3           St. Julian  2013  \n",
       "4         Sweet Cheeks  2012  "
      ]
     },
     "execution_count": 156,
     "metadata": {},
     "output_type": "execute_result"
    }
   ],
   "source": [
    "# Calling the clean dataset\n",
    "wine_list_read_data = pd.read_csv('clean_dataset.csv')\n",
    "wine_cheese_data = pd.read_csv('paired_cheese_wine_data.csv')\n",
    "wine_list = pd.read_csv('clean_dataset.csv')\n",
    "wine_list.head(5)"
   ]
  },
  {
   "attachments": {},
   "cell_type": "markdown",
   "metadata": {},
   "source": [
    "### Vectorizing and normalizing the text columns"
   ]
  },
  {
   "cell_type": "code",
   "execution_count": 157,
   "metadata": {},
   "outputs": [],
   "source": [
    "# Starting with the 'description' column to vectorize\n",
    "descriptions = wine_list['description']"
   ]
  },
  {
   "cell_type": "code",
   "execution_count": 158,
   "metadata": {},
   "outputs": [],
   "source": [
    "# Vectorizing description of the wines. \n",
    "vectorizer_desc = CountVectorizer()\n",
    "vectorizer_desc.fit_transform(descriptions)\n",
    "vocabulary_description = vectorizer_desc.get_feature_names_out()\n",
    "\n",
    "vocabulary_d = vectorizer_desc.fit_transform(descriptions).toarray()"
   ]
  },
  {
   "cell_type": "code",
   "execution_count": 159,
   "metadata": {},
   "outputs": [],
   "source": [
    "# The second important parameter is variety that is needed to be vectorized. \n",
    "variety = wine_list['variety']"
   ]
  },
  {
   "cell_type": "code",
   "execution_count": 160,
   "metadata": {},
   "outputs": [],
   "source": [
    "# Vectorizing variety of the wines. \n",
    "vectorizer_wine = CountVectorizer()\n",
    "vectorizer_wine.fit_transform(variety)\n",
    "vocabulary_wine = vectorizer_wine.get_feature_names_out()\n",
    "\n",
    "vocabulary_v = vectorizer_wine.fit_transform(variety).toarray()"
   ]
  },
  {
   "cell_type": "code",
   "execution_count": 161,
   "metadata": {},
   "outputs": [],
   "source": [
    "# The third important parameter is variety that is needed to be encoded. \n",
    "\n",
    "region = wine_list[['region']]\n",
    "encoder = OneHotEncoder()"
   ]
  },
  {
   "cell_type": "code",
   "execution_count": 162,
   "metadata": {},
   "outputs": [],
   "source": [
    "# The fourth important parameter is variety that is needed to be encoded. \n",
    "country = wine_list[['country']]\n",
    "encoder = OneHotEncoder()"
   ]
  },
  {
   "cell_type": "code",
   "execution_count": 163,
   "metadata": {},
   "outputs": [],
   "source": [
    "# fit and transform all vectorized and encoded data\n",
    "X_desc_sparse = vectorizer_desc.fit_transform(descriptions)\n",
    "X_variety_sparse = vectorizer_wine.fit_transform(variety)\n",
    "X_region_sparse = encoder.fit_transform(region)\n",
    "X_country_sparse = encoder.fit_transform(country)"
   ]
  },
  {
   "cell_type": "code",
   "execution_count": 164,
   "metadata": {},
   "outputs": [
    {
     "data": {
      "text/plain": [
       "(115198, 30752)"
      ]
     },
     "execution_count": 164,
     "metadata": {},
     "output_type": "execute_result"
    }
   ],
   "source": [
    "X_desc_sparse.shape"
   ]
  },
  {
   "cell_type": "code",
   "execution_count": 165,
   "metadata": {},
   "outputs": [
    {
     "data": {
      "text/plain": [
       "(115198, 546)"
      ]
     },
     "execution_count": 165,
     "metadata": {},
     "output_type": "execute_result"
    }
   ],
   "source": [
    "X_variety_sparse.shape"
   ]
  },
  {
   "cell_type": "code",
   "execution_count": 166,
   "metadata": {},
   "outputs": [],
   "source": [
    "# Stacking all tranformed data, variety has the most importance so weight of it increased 3 times based on ML results.\n",
    "X = hstack([X_desc_sparse, (X_variety_sparse*3), X_region_sparse, X_country_sparse])"
   ]
  },
  {
   "cell_type": "code",
   "execution_count": 167,
   "metadata": {},
   "outputs": [],
   "source": [
    "# performs linear dimensionality reduction by means of truncated singular value decomposition.\n",
    "svd = TruncatedSVD(n_components=10)"
   ]
  },
  {
   "cell_type": "code",
   "execution_count": 168,
   "metadata": {},
   "outputs": [
    {
     "data": {
      "text/plain": [
       "(115198, 32560)"
      ]
     },
     "execution_count": 168,
     "metadata": {},
     "output_type": "execute_result"
    }
   ],
   "source": [
    "# Checking the shape of X before transformations\n",
    "X.shape"
   ]
  },
  {
   "cell_type": "code",
   "execution_count": 169,
   "metadata": {},
   "outputs": [],
   "source": [
    "#Transforming X to SVD\n",
    "X_svd = svd.fit_transform(X)"
   ]
  },
  {
   "cell_type": "code",
   "execution_count": 170,
   "metadata": {},
   "outputs": [
    {
     "data": {
      "text/plain": [
       "0.2795936191105247"
      ]
     },
     "execution_count": 170,
     "metadata": {},
     "output_type": "execute_result"
    }
   ],
   "source": [
    "# Checking variance ratio of the transformed data\n",
    "svd.explained_variance_ratio_.sum()"
   ]
  },
  {
   "cell_type": "code",
   "execution_count": 171,
   "metadata": {},
   "outputs": [
    {
     "data": {
      "text/plain": [
       "(115198, 10)"
      ]
     },
     "execution_count": 171,
     "metadata": {},
     "output_type": "execute_result"
    }
   ],
   "source": [
    "# checking transformed X shape\n",
    "X_svd.shape"
   ]
  },
  {
   "cell_type": "code",
   "execution_count": 172,
   "metadata": {},
   "outputs": [],
   "source": [
    "# converting X_svd to array\n",
    "X_svd_array = np.array(X_svd)"
   ]
  },
  {
   "cell_type": "code",
   "execution_count": 173,
   "metadata": {},
   "outputs": [],
   "source": [
    "# creating data frame of X_svd\n",
    "svd_df = pd.DataFrame(X_svd_array)"
   ]
  },
  {
   "cell_type": "code",
   "execution_count": 174,
   "metadata": {},
   "outputs": [],
   "source": [
    "# Normalizing the transformed data for better ML performance\n",
    "normalizer = Normalizer(norm='l2') \n",
    "svd_df = normalizer.fit_transform(svd_df)\n",
    "svd_df = pd.DataFrame(svd_df)"
   ]
  },
  {
   "cell_type": "code",
   "execution_count": 175,
   "metadata": {},
   "outputs": [],
   "source": [
    "# normalized 'points' and 'price_USD' in the main dataframe for better ML performance\n",
    "scaler = StandardScaler()\n",
    "columns_to_scale = ['points', 'price_USD']\n",
    "wine_list[columns_to_scale] = scaler.fit_transform(wine_list[columns_to_scale])"
   ]
  },
  {
   "cell_type": "code",
   "execution_count": 176,
   "metadata": {},
   "outputs": [],
   "source": [
    "# combine main dataframe and vectorized data dataframe.\n",
    "\n",
    "concatenated_wine_list = pd.concat([wine_list, svd_df], axis=1)"
   ]
  },
  {
   "attachments": {},
   "cell_type": "markdown",
   "metadata": {},
   "source": [
    "### Running ML model"
   ]
  },
  {
   "cell_type": "code",
   "execution_count": 177,
   "metadata": {},
   "outputs": [],
   "source": [
    "# create new dataframe which includes numerical columns\n",
    "numerical_features = concatenated_wine_list.drop(columns={'country', 'description','province', 'region','variety', 'winery', 'wine_name', 'year', 'price_USD'})"
   ]
  },
  {
   "cell_type": "code",
   "execution_count": 178,
   "metadata": {},
   "outputs": [],
   "source": [
    "numerics = numerical_features.to_numpy()"
   ]
  },
  {
   "cell_type": "code",
   "execution_count": 179,
   "metadata": {},
   "outputs": [],
   "source": [
    "# Nearest Neighbor ML model\n",
    "nearest_neighbors = NearestNeighbors(algorithm='brute', n_neighbors=6).fit(numerics)"
   ]
  },
  {
   "cell_type": "code",
   "execution_count": 180,
   "metadata": {},
   "outputs": [],
   "source": [
    "#checking the resul of model\n",
    "query_wine = numerical_features.iloc[40855:40856]"
   ]
  },
  {
   "cell_type": "code",
   "execution_count": 181,
   "metadata": {},
   "outputs": [
    {
     "data": {
      "text/html": [
       "<div>\n",
       "<style scoped>\n",
       "    .dataframe tbody tr th:only-of-type {\n",
       "        vertical-align: middle;\n",
       "    }\n",
       "\n",
       "    .dataframe tbody tr th {\n",
       "        vertical-align: top;\n",
       "    }\n",
       "\n",
       "    .dataframe thead th {\n",
       "        text-align: right;\n",
       "    }\n",
       "</style>\n",
       "<table border=\"1\" class=\"dataframe\">\n",
       "  <thead>\n",
       "    <tr style=\"text-align: right;\">\n",
       "      <th></th>\n",
       "      <th>country</th>\n",
       "      <th>description</th>\n",
       "      <th>points</th>\n",
       "      <th>price_USD</th>\n",
       "      <th>province</th>\n",
       "      <th>region</th>\n",
       "      <th>wine_name</th>\n",
       "      <th>variety</th>\n",
       "      <th>winery</th>\n",
       "      <th>year</th>\n",
       "    </tr>\n",
       "  </thead>\n",
       "  <tbody>\n",
       "    <tr>\n",
       "      <th>40855</th>\n",
       "      <td>France</td>\n",
       "      <td>A beautiful, pure wine that  combines freshnes...</td>\n",
       "      <td>3.077465</td>\n",
       "      <td>2.722388</td>\n",
       "      <td>Burgundy</td>\n",
       "      <td>Clos de Lambrays</td>\n",
       "      <td>Domaine des Lambrays 2005 Clos de Lambrays</td>\n",
       "      <td>Pinot Noir</td>\n",
       "      <td>Domaine des Lambrays</td>\n",
       "      <td>2005</td>\n",
       "    </tr>\n",
       "  </tbody>\n",
       "</table>\n",
       "</div>"
      ],
      "text/plain": [
       "      country                                        description    points   \n",
       "40855  France  A beautiful, pure wine that  combines freshnes...  3.077465  \\\n",
       "\n",
       "       price_USD  province            region   \n",
       "40855   2.722388  Burgundy  Clos de Lambrays  \\\n",
       "\n",
       "                                        wine_name     variety   \n",
       "40855  Domaine des Lambrays 2005 Clos de Lambrays  Pinot Noir  \\\n",
       "\n",
       "                     winery  year  \n",
       "40855  Domaine des Lambrays  2005  "
      ]
     },
     "execution_count": 181,
     "metadata": {},
     "output_type": "execute_result"
    }
   ],
   "source": [
    "wine_list.iloc[40855:40856]"
   ]
  },
  {
   "cell_type": "code",
   "execution_count": 182,
   "metadata": {},
   "outputs": [],
   "source": [
    "# checking neighbors distances and neighbors\n",
    "distances, indices = nearest_neighbors.kneighbors(query_wine.to_numpy())"
   ]
  },
  {
   "cell_type": "code",
   "execution_count": 183,
   "metadata": {},
   "outputs": [
    {
     "data": {
      "text/plain": [
       "(array([[0.        , 0.19912522, 0.28684633, 0.40565365, 0.41916352,\n",
       "         0.42960276]]),\n",
       " array([[ 40855,  40856,  38181,  39577, 108400,  40858]]))"
      ]
     },
     "execution_count": 183,
     "metadata": {},
     "output_type": "execute_result"
    }
   ],
   "source": [
    "distances, indices"
   ]
  },
  {
   "cell_type": "code",
   "execution_count": 184,
   "metadata": {},
   "outputs": [
    {
     "data": {
      "text/html": [
       "<div>\n",
       "<style scoped>\n",
       "    .dataframe tbody tr th:only-of-type {\n",
       "        vertical-align: middle;\n",
       "    }\n",
       "\n",
       "    .dataframe tbody tr th {\n",
       "        vertical-align: top;\n",
       "    }\n",
       "\n",
       "    .dataframe thead th {\n",
       "        text-align: right;\n",
       "    }\n",
       "</style>\n",
       "<table border=\"1\" class=\"dataframe\">\n",
       "  <thead>\n",
       "    <tr style=\"text-align: right;\">\n",
       "      <th></th>\n",
       "      <th>country</th>\n",
       "      <th>description</th>\n",
       "      <th>points</th>\n",
       "      <th>price_USD</th>\n",
       "      <th>province</th>\n",
       "      <th>region</th>\n",
       "      <th>wine_name</th>\n",
       "      <th>variety</th>\n",
       "      <th>winery</th>\n",
       "      <th>year</th>\n",
       "    </tr>\n",
       "  </thead>\n",
       "  <tbody>\n",
       "    <tr>\n",
       "      <th>30372</th>\n",
       "      <td>France</td>\n",
       "      <td>This is a fabulous wine from the greatest Cham...</td>\n",
       "      <td>100.0</td>\n",
       "      <td>259</td>\n",
       "      <td>Champagne</td>\n",
       "      <td>Champagne</td>\n",
       "      <td>Krug 2002 Brut (Champagne)</td>\n",
       "      <td>Champagne Blend</td>\n",
       "      <td>Krug</td>\n",
       "      <td>2002</td>\n",
       "    </tr>\n",
       "    <tr>\n",
       "      <th>77271</th>\n",
       "      <td>France</td>\n",
       "      <td>This latest incarnation of the famous brand is...</td>\n",
       "      <td>100.0</td>\n",
       "      <td>250</td>\n",
       "      <td>Champagne</td>\n",
       "      <td>Champagne</td>\n",
       "      <td>Louis Roederer 2008 Cristal Vintage Brut (Cham...</td>\n",
       "      <td>Champagne Blend</td>\n",
       "      <td>Louis Roederer</td>\n",
       "      <td>2008</td>\n",
       "    </tr>\n",
       "    <tr>\n",
       "      <th>97735</th>\n",
       "      <td>Italy</td>\n",
       "      <td>It takes only a few moments before you appreci...</td>\n",
       "      <td>100.0</td>\n",
       "      <td>270</td>\n",
       "      <td>Tuscany</td>\n",
       "      <td>Brunello di Montalcino</td>\n",
       "      <td>Casanova di Neri 2007 Cerretalto (Brunello di ...</td>\n",
       "      <td>Sangiovese Grosso</td>\n",
       "      <td>Casanova di Neri</td>\n",
       "      <td>2007</td>\n",
       "    </tr>\n",
       "    <tr>\n",
       "      <th>100763</th>\n",
       "      <td>Portugal</td>\n",
       "      <td>The sweetness of the wine vies with the acidit...</td>\n",
       "      <td>99.0</td>\n",
       "      <td>268</td>\n",
       "      <td>Port</td>\n",
       "      <td>Unknown</td>\n",
       "      <td>Taylor Fladgate 2011 Vargellas Vinhas Velhas V...</td>\n",
       "      <td>Port</td>\n",
       "      <td>Taylor Fladgate</td>\n",
       "      <td>2011</td>\n",
       "    </tr>\n",
       "    <tr>\n",
       "      <th>67662</th>\n",
       "      <td>Italy</td>\n",
       "      <td>Even better than the highly acclaimed 2001 vin...</td>\n",
       "      <td>99.0</td>\n",
       "      <td>250</td>\n",
       "      <td>Tuscany</td>\n",
       "      <td>Toscana</td>\n",
       "      <td>Tenuta dell'Ornellaia 2004 Masseto Merlot (Tos...</td>\n",
       "      <td>Merlot</td>\n",
       "      <td>Tenuta dell'Ornellaia</td>\n",
       "      <td>2004</td>\n",
       "    </tr>\n",
       "    <tr>\n",
       "      <th>51360</th>\n",
       "      <td>Italy</td>\n",
       "      <td>Sperss (the name is inspired by the local word...</td>\n",
       "      <td>98.0</td>\n",
       "      <td>255</td>\n",
       "      <td>Piedmont</td>\n",
       "      <td>Langhe</td>\n",
       "      <td>Gaja 2006 Sperss Nebbiolo (Langhe)</td>\n",
       "      <td>Nebbiolo</td>\n",
       "      <td>Gaja</td>\n",
       "      <td>2006</td>\n",
       "    </tr>\n",
       "  </tbody>\n",
       "</table>\n",
       "</div>"
      ],
      "text/plain": [
       "         country                                        description  points   \n",
       "30372     France  This is a fabulous wine from the greatest Cham...   100.0  \\\n",
       "77271     France  This latest incarnation of the famous brand is...   100.0   \n",
       "97735      Italy  It takes only a few moments before you appreci...   100.0   \n",
       "100763  Portugal  The sweetness of the wine vies with the acidit...    99.0   \n",
       "67662      Italy  Even better than the highly acclaimed 2001 vin...    99.0   \n",
       "51360      Italy  Sperss (the name is inspired by the local word...    98.0   \n",
       "\n",
       "        price_USD   province                  region   \n",
       "30372         259  Champagne               Champagne  \\\n",
       "77271         250  Champagne               Champagne   \n",
       "97735         270    Tuscany  Brunello di Montalcino   \n",
       "100763        268       Port                 Unknown   \n",
       "67662         250    Tuscany                 Toscana   \n",
       "51360         255   Piedmont                  Langhe   \n",
       "\n",
       "                                                wine_name            variety   \n",
       "30372                          Krug 2002 Brut (Champagne)    Champagne Blend  \\\n",
       "77271   Louis Roederer 2008 Cristal Vintage Brut (Cham...    Champagne Blend   \n",
       "97735   Casanova di Neri 2007 Cerretalto (Brunello di ...  Sangiovese Grosso   \n",
       "100763  Taylor Fladgate 2011 Vargellas Vinhas Velhas V...               Port   \n",
       "67662   Tenuta dell'Ornellaia 2004 Masseto Merlot (Tos...             Merlot   \n",
       "51360                  Gaja 2006 Sperss Nebbiolo (Langhe)           Nebbiolo   \n",
       "\n",
       "                       winery  year  \n",
       "30372                    Krug  2002  \n",
       "77271          Louis Roederer  2008  \n",
       "97735        Casanova di Neri  2007  \n",
       "100763        Taylor Fladgate  2011  \n",
       "67662   Tenuta dell'Ornellaia  2004  \n",
       "51360                    Gaja  2006  "
      ]
     },
     "execution_count": 184,
     "metadata": {},
     "output_type": "execute_result"
    }
   ],
   "source": [
    "#checking the resul of the ML model\n",
    "indices = [ 30372, 77271, 97735, 100763, 67662, 51360 ]\n",
    "\n",
    "selected_rows = wine_list_read_data.loc[indices]\n",
    "selected_rows"
   ]
  },
  {
   "cell_type": "code",
   "execution_count": 185,
   "metadata": {},
   "outputs": [],
   "source": [
    "wine_names = [\"Domaine des Lambrays 2005 Clos de Lambrays\",\n",
    "              \"Krug 2002 Brut (Champagne)\",\n",
    "              \"Domaine Leflaive 2010 Bâtard-Montrachet\",\n",
    "              \"Jean-Michel Dupré 2015 1935 Vieilles Vignes (Morgon)\",\n",
    "              \"Artner 2012 Steinäcker Zweigelt (Carnuntum)\",\n",
    "              \"Robert Biale 2014 Limerick Lane Vineyard Zinfandel (Russian River Valley)\",\n",
    "              \"Bisol 2007 Cartizze (Prosecco Superiore di Cartizze)\",\n",
    "              \"Domaine Zind-Humbrecht 2012 Clos Saint Urbain Rangen de Thann Grand Cru Gewurztraminer (Alsace)\",\n",
    "              \"Bodegas Roda 2009 Cirsion (Rioja)\",\n",
    "              \"Pittacum 2012 La Prohibición Garnacha Tintorera (Vino de la Tierra de Castilla y León)\",\n",
    "              \"Bodega del Abad 2011 Carracedo Mencía (Bierzo)\",\n",
    "              \"Domaine Vacheron 2014 L'Enclos des Remparts Sauvignon Blanc (Vin de France)\",\n",
    "              \"Domaine Huët 2009 Clos du Bourg Première Trie Moelleux (Vouvray)\",\n",
    "              \"Schloss Gobelsburg 2015 Eiswein Grüner Veltliner (Niederösterreich)\",\n",
    "              \"Alpha Omega 2012 Stagecoach Vineyard Cabernet Sauvignon (Atlas Peak)\",\n",
    "              \"François Lurton 2011 Alka Carmenère (Colchagua Valley)\",\n",
    "              \"Masciarelli 2005 Villa Gemma (Montepulciano d'Abruzzo)\",\n",
    "              \"Château Vignelaure 2016 Rosé (Coteaux d'Aix-en-Provence)\",\n",
    "              \"Pietradolce 2016 Rosato (Etna)\",\n",
    "              \"Müller-Catoir 2007 Breumel in den Mauren Trockenbeerenauslese Riesling (Pfalz)\",\n",
    "              \"Château La Nerthe 2012 Clos de Beauvenir White (Châteauneuf-du-Pape)\",\n",
    "              \"Capichera 2013 VT Vermentino (Isola dei Nuraghi)\",\n",
    "              \"Bucci 2013 Villa Bucci Riserva (Verdicchio dei Castelli di Jesi Classico Superiore)\",\n",
    "              \"Château du Cèdre 2012 GC Malbec (Cahors)\",\n",
    "              \"Penfolds 2008 Grange Shiraz (South Australia)\",\n",
    "              \"Bodegas Gutiérrez de la Vega 1999 Casta Diva Fondillón Sweet Monastrell (Alicante)\",\n",
    "              \"Krutzler 2012 Perwolff Blaufränkisch (Südburgenland)\",\n",
    "              \"Château Pontet-Canet 2009 Barrel sample (Pauillac)\",\n",
    "              \"Tenuta dell'Ornellaia 2007 Masseto Merlot (Toscana)\"]\n",
    "\n",
    "filtered_df = wine_list_read_data[wine_list_read_data[\"wine_name\"].isin(wine_names)]\n",
    "\n",
    "index_wine_cheese = filtered_df.index.tolist()\n"
   ]
  },
  {
   "cell_type": "code",
   "execution_count": 186,
   "metadata": {},
   "outputs": [],
   "source": [
    "filtered_df = filtered_df.reset_index()\n",
    "filtered_df = filtered_df[['index', 'wine_name']]\n",
    "\n"
   ]
  },
  {
   "cell_type": "code",
   "execution_count": 187,
   "metadata": {},
   "outputs": [],
   "source": [
    "wine_cheese_data = wine_cheese_data.merge(filtered_df, on='wine_name').sort_values('index', ascending=True)"
   ]
  },
  {
   "cell_type": "code",
   "execution_count": 188,
   "metadata": {},
   "outputs": [],
   "source": [
    "wine_cheese_data = wine_cheese_data.reset_index(drop=True)"
   ]
  },
  {
   "cell_type": "code",
   "execution_count": 189,
   "metadata": {},
   "outputs": [
    {
     "data": {
      "text/plain": [
       "[[11895, 112692, 77273, 34861, 102757, 56817],\n",
       " [12447, 17981, 54848, 17976, 87776, 103864],\n",
       " [14971, 66088, 103506, 77037, 13556, 1165],\n",
       " [21093, 23297, 103524, 22839, 34494, 52669],\n",
       " [27741, 74921, 93121, 38363, 102753, 45530],\n",
       " [30372, 35163, 99777, 77271, 97735, 6032],\n",
       " [32731, 38178, 108992, 67662, 100762, 38195],\n",
       " [34862, 34861, 77273, 89070, 106522, 28102],\n",
       " [36418, 74921, 82207, 37527, 32480, 102753],\n",
       " [37207, 2529, 38373, 71492, 45488, 45476],\n",
       " [38188, 90660, 45472, 25008, 8283, 63831],\n",
       " [40855, 40856, 38181, 39577, 108400, 40858],\n",
       " [47634, 49980, 89976, 75018, 47946, 41240],\n",
       " [48391, 32014, 61033, 110819, 36003, 112777],\n",
       " [65181, 89401, 12606, 112544, 22839, 16076],\n",
       " [65757, 51360, 100764, 30374, 95519, 108401],\n",
       " [66097, 44220, 26809, 30349, 38455, 39537],\n",
       " [79241, 66931, 106527, 65346, 50568, 38493],\n",
       " [85265, 30373, 47791, 39575, 77272, 103712],\n",
       " [90875, 89751, 24298, 69588, 100983, 10065],\n",
       " [93122, 81041, 13553, 85294, 12893, 80966],\n",
       " [93696, 12897, 12892, 93130, 66772, 16915],\n",
       " [95546, 66927, 76489, 50568, 85272, 89086],\n",
       " [95942, 28105, 77278, 103015, 276, 79240],\n",
       " [101841, 97739, 101840, 97741, 97738, 1261],\n",
       " [101885, 1258, 94091, 107388, 113570, 34860],\n",
       " [105221, 98578, 13176, 78361, 8284, 111193],\n",
       " [107391, 107899, 39578, 108030, 107898, 78384],\n",
       " [108030, 107391, 3683, 107899, 71480, 78384]]"
      ]
     },
     "execution_count": 189,
     "metadata": {},
     "output_type": "execute_result"
    }
   ],
   "source": [
    "neighbors = []\n",
    "for i in index_wine_cheese:\n",
    "    query_wine = numerical_features.iloc[i]\n",
    "    _, indices = nearest_neighbors.kneighbors([query_wine]) \n",
    "    neighbors.append(indices[0].tolist()) \n",
    "\n",
    "neighbors\n",
    "                  "
   ]
  },
  {
   "cell_type": "code",
   "execution_count": 190,
   "metadata": {},
   "outputs": [],
   "source": [
    "neighbors_df = pd.DataFrame(neighbors, columns=[\"neighbor_1\", \"neighbor_2\", \"neighbor_3\", \"neighbor_4\", \"neighbor_5\", \"neighbor_6\"])"
   ]
  },
  {
   "cell_type": "code",
   "execution_count": 191,
   "metadata": {},
   "outputs": [],
   "source": [
    "wine_cheese_neigbors = pd.concat([wine_cheese_data, neighbors_df], axis=1)\n",
    "wine_cheese_neigbors.to_csv('wine_cheese_neigbors.csv')"
   ]
  },
  {
   "cell_type": "code",
   "execution_count": 192,
   "metadata": {},
   "outputs": [
    {
     "name": "stdout",
     "output_type": "stream",
     "text": [
      "Recommendation-1\n",
      "Country: France\n",
      "Description: A beautiful wine, with the firmest tannins surrounded by perfumed fruit. It is dense, of course, but this density is balanced with great elegance, blackberry fruits, sweetness and final juicy acidity. The wine is structured, a powerhouse of concentration while preserving this complete style.\n",
      "Wine_Name: Château Palmer 2009 Margaux\n",
      "Variety: Bordeaux-style Red Blend\n",
      "Year: 2009\n",
      "Points: 98.0\n",
      "Price:  380\n",
      "\n",
      "Recommendation-2\n",
      "Country: France\n",
      "Description: A big, bold wine with unbelievable power and concentration. Low yields and a dominance of Cabernet Franc have produced an immensely concentrated wine. Still very young, this magnificent wine holds the promise of great aging.\n",
      "Wine_Name: Château Ausone 2010 Saint-Émilion\n",
      "Variety: Bordeaux-style Red Blend\n",
      "Year: 2010\n",
      "Points: 99.0\n",
      "Price:  340\n",
      "\n",
      "Recommendation-3\n",
      "Country: France\n",
      "Description: Stern, almost severe initially, this great wine takes time to show its immense fruit power. Black currant and blackberry notes are packed into the wine, along with an impressive array of spices from new wood that gives a more exotic element. At the end, though, it has a fine, structured sense of proportion. Obviously for aging over decades,  so don't drink before 2022.\n",
      "Wine_Name: Château Latour 2010 Pauillac\n",
      "Variety: Bordeaux-style Red Blend\n",
      "Year: 2010\n",
      "Points: 99.0\n",
      "Price:  340\n",
      "\n",
      "Recommendation-4\n",
      "Country: France\n",
      "Description: Dense, yes, but this is also a handsome wine that balances complex tannins with pure black currant fruits that shine. This biodynamic wine has a generous, full and rich feel, ripe with just a touch of restraint. The greatness of the wine shows in its purity with a deceptive simplicity that hides the final complex tannins and structure.\n",
      "Wine_Name: Château Pontet-Canet 2010 Pauillac\n",
      "Variety: Bordeaux-style Red Blend\n",
      "Year: 2010\n",
      "Points: 98.0\n",
      "Price:  197\n",
      "\n",
      "Recommendation-5\n",
      "Country: France\n",
      "Description: 98-100 Barrel sample. Sumptuous, opulent, with gorgeous ripe fruit, and yet under 14 percent alcohol. The firm tannins are almost smothered by the delicious fruits. It is a great wine that expresses both the natural exuberance of Palmer and the rich fruit and balancing freshness of the vintage.\n",
      "Wine_Name: Château Palmer 2009 Barrel sample (Margaux)\n",
      "Variety: Bordeaux-style Red Blend\n",
      "Year: 2009\n",
      "Points: 99.0\n",
      "Price:  207\n",
      "\n",
      "Recommendation-6\n",
      "Country: France\n",
      "Description: 98-100 Barrel sample. A superb wine, with the purest fruit, great freshness and ripeness. It is certainly structured with dry tannins, but the blackcurrant freshness is all there. The wine has a great limpid, flowing feel, lbut also power.\n",
      "Wine_Name: Château Pontet-Canet 2009 Barrel sample (Pauillac)\n",
      "Variety: Bordeaux-style Red Blend\n",
      "Year: 2009\n",
      "Points: 99.0\n",
      "Price:  207\n",
      "\n"
     ]
    }
   ],
   "source": [
    "from fuzzywuzzy import fuzz\n",
    "from fuzzywuzzy import process\n",
    "\n",
    "recommendation_counter = 1\n",
    "while True:\n",
    "    input_cheese = input(\"Let me know your favorite cheese to recommend you the best-fitted wine!\")\n",
    "\n",
    "    input_cheese = input_cheese.lower() \n",
    "\n",
    "    available_cheeses_lower = wine_cheese_neigbors[\"cheese\"].str.lower()\n",
    "    if input_cheese in available_cheeses_lower.values:\n",
    "        filtered_df = wine_cheese_neigbors[available_cheeses_lower == input_cheese]\n",
    "        neighbors_list = filtered_df[['neighbor_1', 'neighbor_2', 'neighbor_3', 'neighbor_4', 'neighbor_5', 'neighbor_6']].values.flatten()\n",
    "        selected_rows = wine_list_read_data[wine_list_read_data.index.isin(neighbors_list)]\n",
    "        selected_rows = selected_rows.drop(columns=['province', 'winery'])\n",
    "\n",
    "        for _, row in selected_rows.iterrows():\n",
    "            print(f\"Recommendation-{recommendation_counter}\")\n",
    "            print(\"Country:\", row['country'])\n",
    "            print(\"Description:\", row['description'])\n",
    "            print(\"Wine_Name:\", row['wine_name'])\n",
    "            print(\"Variety:\", row['variety'])\n",
    "            print(\"Year:\", row['year'])\n",
    "            print(\"Points:\", row['points'])\n",
    "            print(\"Price: \", row['price_USD'])\n",
    "            print()\n",
    "            recommendation_counter += 1\n",
    "        break\n",
    "\n",
    "    else:\n",
    "        available_cheeses_lower = available_cheeses_lower.unique()\n",
    "        matches = process.extract(input_cheese, available_cheeses_lower, scorer=fuzz.token_set_ratio)\n",
    "        matches = [match[0] for match in matches if match[1] >= 70]  # Minimum similarity ratio of 70\n",
    "\n",
    "        if matches:\n",
    "            print(\"Did you mean one of the following cheeses?\")\n",
    "            print(\", \".join(matches))\n",
    "        else:\n",
    "            print(\"Sorry, this cheese is not available. Please try another type of cheese.\")\n",
    "            print(\"Available cheeses are:\")\n",
    "            print(\", \".join(available_cheeses))\n",
    "             \n",
    "\n",
    "        print()\n",
    "        continue\n"
   ]
  }
 ],
 "metadata": {
  "kernelspec": {
   "display_name": "Python 3",
   "language": "python",
   "name": "python3"
  },
  "language_info": {
   "codemirror_mode": {
    "name": "ipython",
    "version": 3
   },
   "file_extension": ".py",
   "mimetype": "text/x-python",
   "name": "python",
   "nbconvert_exporter": "python",
   "pygments_lexer": "ipython3",
   "version": "3.9.6"
  },
  "orig_nbformat": 4
 },
 "nbformat": 4,
 "nbformat_minor": 2
}
